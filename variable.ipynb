{
 "cells": [
  {
   "cell_type": "code",
   "execution_count": null,
   "id": "72bf350e-9b59-4049-893e-8796ef25412e",
   "metadata": {},
   "outputs": [],
   "source": [
    "#Q1\n",
    "# in a python programing lang to declare the variable we generelly use aplhabet ,aplha_ , a name of person , alpha in uppercase,lowercase  etc but not to use the apha num,num,special char"
   ]
  },
  {
   "cell_type": "code",
   "execution_count": 3,
   "id": "4027538e-4394-4958-9f2c-14aa55a52359",
   "metadata": {},
   "outputs": [],
   "source": [
    "#Q2 if we uses the restrictive keywords as a variable it gives syntax error"
   ]
  },
  {
   "cell_type": "code",
   "execution_count": 6,
   "id": "47dea348-2329-4997-83f0-a53836177f1a",
   "metadata": {},
   "outputs": [
    {
     "ename": "SyntaxError",
     "evalue": "cannot assign to literal here. Maybe you meant '==' instead of '='? (2402734763.py, line 2)",
     "output_type": "error",
     "traceback": [
      "\u001b[0;36m  Cell \u001b[0;32mIn[6], line 2\u001b[0;36m\u001b[0m\n\u001b[0;31m    \"avi\"=1223\u001b[0m\n\u001b[0m    ^\u001b[0m\n\u001b[0;31mSyntaxError\u001b[0m\u001b[0;31m:\u001b[0m cannot assign to literal here. Maybe you meant '==' instead of '='?\n"
     ]
    }
   ],
   "source": [
    "#Q3  no we cannot declare string as a variable name\n",
    "\"avi\"=1223"
   ]
  },
  {
   "cell_type": "code",
   "execution_count": 7,
   "id": "c98e6f9a-3553-410f-a92e-03886fc5a08f",
   "metadata": {},
   "outputs": [
    {
     "ename": "SyntaxError",
     "evalue": "cannot assign to literal here. Maybe you meant '==' instead of '='? (2855883101.py, line 1)",
     "output_type": "error",
     "traceback": [
      "\u001b[0;36m  Cell \u001b[0;32mIn[7], line 1\u001b[0;36m\u001b[0m\n\u001b[0;31m    \"_\"=123\u001b[0m\n\u001b[0m    ^\u001b[0m\n\u001b[0;31mSyntaxError\u001b[0m\u001b[0;31m:\u001b[0m cannot assign to literal here. Maybe you meant '==' instead of '='?\n"
     ]
    }
   ],
   "source": [
    "#Q4 no it is not possible\n",
    "\"_\"=123"
   ]
  },
  {
   "cell_type": "code",
   "execution_count": 8,
   "id": "299a475c-dbd8-4f73-be58-c0b06c6f8320",
   "metadata": {},
   "outputs": [],
   "source": [
    "#Q5\n",
    "a=123"
   ]
  },
  {
   "cell_type": "code",
   "execution_count": 9,
   "id": "60275a06-842f-455d-b038-4b3f14884a14",
   "metadata": {},
   "outputs": [
    {
     "data": {
      "text/plain": [
       "123"
      ]
     },
     "execution_count": 9,
     "metadata": {},
     "output_type": "execute_result"
    }
   ],
   "source": [
    "a"
   ]
  },
  {
   "cell_type": "code",
   "execution_count": 10,
   "id": "0d4d4cc2-e442-49d4-8f78-c3296e6723c1",
   "metadata": {},
   "outputs": [],
   "source": [
    "avi_=345"
   ]
  },
  {
   "cell_type": "code",
   "execution_count": null,
   "id": "d87cd8d8-0672-4797-968e-6be52e39e5f2",
   "metadata": {},
   "outputs": [],
   "source": []
  }
 ],
 "metadata": {
  "kernelspec": {
   "display_name": "Python 3 (ipykernel)",
   "language": "python",
   "name": "python3"
  },
  "language_info": {
   "codemirror_mode": {
    "name": "ipython",
    "version": 3
   },
   "file_extension": ".py",
   "mimetype": "text/x-python",
   "name": "python",
   "nbconvert_exporter": "python",
   "pygments_lexer": "ipython3",
   "version": "3.10.8"
  }
 },
 "nbformat": 4,
 "nbformat_minor": 5
}
